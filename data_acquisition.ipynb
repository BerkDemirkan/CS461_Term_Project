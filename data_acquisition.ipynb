{
 "cells": [
  {
   "cell_type": "code",
   "execution_count": null,
   "metadata": {
    "notebookRunGroups": {
     "groupValue": "12"
    }
   },
   "outputs": [],
   "source": [
    "import pandas as pd\n",
    "import numpy as np\n",
    "import glob\n",
    "from pathlib import Path\n",
    "from tqdm.auto import tqdm\n",
    "\n",
    "from gym_trading_env.downloader import download, EXCHANGE_LIMIT_RATES, _download_symbols\n",
    "from datetime import datetime\n",
    "from dateutil.relativedelta import relativedelta\n",
    "import os, shutil, uuid\n",
    "from multiprocessing.pool import ThreadPool\n",
    "import asyncio"
   ]
  },
  {
   "cell_type": "code",
   "execution_count": null,
   "metadata": {
    "notebookRunGroups": {
     "groupValue": "12"
    }
   },
   "outputs": [],
   "source": [
    "raw_data = \"data/raw\"\n",
    "processed_train_data = \"data/processed/training/\"\n",
    "processed_test_data = \"data/processed/testing/\"\n",
    "train_data = \"data/training\"\n",
    "test_data = \"data/testing\"\n",
    "\n",
    "EXCHANGE_LIMIT_RATES[\"btcturk\"] = {\n",
    "    \"limit\": 500,\n",
    "    \"pause_every\": 120,\n",
    "    \"pause\" : 2,\n",
    "}\n",
    "\n",
    "TARGET_TIMEFRAME = \"1h\"\n",
    "DOWNLOAD_TIMEFRAME = \"30m\"\n",
    "EXCHANGE = \"binance\"\n",
    "SYMBOL = \"ETH/TRY\"\n",
    "test_ratio = 0.2\n",
    "\n",
    "START = datetime(year=2020, month=1, day=1)\n",
    "INTERVAL = relativedelta(weeks=1)\n",
    "DELTA = relativedelta(days=1)\n",
    "\n",
    "until = datetime.now()\n",
    "since = until - INTERVAL"
   ]
  },
  {
   "cell_type": "code",
   "execution_count": null,
   "metadata": {
    "notebookRunGroups": {
     "groupValue": "1"
    }
   },
   "outputs": [],
   "source": [
    "for root, dirs, files in os.walk(\"./data/\"):\n",
    "    for file in files:\n",
    "        filepath = os.path.join(root, file)\n",
    "        os.remove(filepath)"
   ]
  },
  {
   "cell_type": "code",
   "execution_count": null,
   "metadata": {
    "notebookRunGroups": {
     "groupValue": "12"
    }
   },
   "outputs": [],
   "source": [
    "first = True\n",
    "intervals = [] # [(since, until), ...]\n",
    "while since > START and until > START:\n",
    "    intervals.append((since, until))\n",
    "    if first:\n",
    "        first = False\n",
    "        since -= INTERVAL\n",
    "        until -= INTERVAL\n",
    "    else:\n",
    "        since -= DELTA\n",
    "        until -= DELTA\n",
    "\n",
    "for since, until in tqdm(intervals):\n",
    "    if not os.path.exists(f\"{raw_data}/{EXCHANGE}-{SYMBOL.replace('/', '')}-{since.year}{since.month:02}{since.day:02}-{until.year}{until.month:02}{until.day:02}-{DOWNLOAD_TIMEFRAME}.pkl\"):\n",
    "        try:\n",
    "            download(\n",
    "                exchange_names=[EXCHANGE],\n",
    "                symbols=[SYMBOL],\n",
    "                timeframe=DOWNLOAD_TIMEFRAME,\n",
    "                dir=raw_data,\n",
    "                since=since,\n",
    "                until=until,\n",
    "            )\n",
    "        except:\n",
    "            print(f\"Failed to download {raw_data}/{EXCHANGE}-{SYMBOL.replace('/', '')}-{since.year}{since.month:02}{since.day:02}-{until.year}{until.month:02}{until.day:02}-{DOWNLOAD_TIMEFRAME}.pkl.\\nRetrying...\")"
   ]
  },
  {
   "cell_type": "code",
   "execution_count": null,
   "metadata": {
    "notebookRunGroups": {
     "groupValue": "12"
    }
   },
   "outputs": [],
   "source": [
    "raw_paths = glob.glob(f\"{raw_data}/*pkl\")\n",
    "# np.random.shuffle(raw_paths)\n",
    "raw_paths.reverse()\n",
    "for i, raw_path in enumerate(tqdm(raw_paths)):\n",
    "    try:\n",
    "        name = Path(raw_path).name.split(\".\")[0].replace(DOWNLOAD_TIMEFRAME, TARGET_TIMEFRAME)\n",
    "        df: pd.DataFrame = pd.read_pickle(raw_path)\n",
    "        timeframe = (df.index - df.index.to_series().shift(1)).value_counts().index[0]\n",
    "        for offset in range(pd.Timedelta(TARGET_TIMEFRAME) // timeframe):\n",
    "            process_df = df.resample(pd.Timedelta(TARGET_TIMEFRAME), offset=offset * timeframe).agg(\n",
    "                {\n",
    "                    \"date_close\": lambda x: x.iloc[-1] if len(x) > 0 else np.nan,\n",
    "                    \"open\": lambda x: x.iloc[0] if len(x) > 0 else np.nan,\n",
    "                    \"high\": lambda x: max(x) if len(x) > 0 else np.nan,\n",
    "                    \"low\": lambda x: min(x) if len(x) > 0 else np.nan,\n",
    "                    \"close\": lambda x: x.iloc[-1] if len(x) > 0 else np.nan,\n",
    "                    \"volume\": lambda x: sum(x) if len(x) > 0 else np.nan,\n",
    "                }\n",
    "            )[1:-1]\n",
    "            process_df.dropna(inplace=True)\n",
    "            \n",
    "            random_filename = uuid.uuid4().hex\n",
    "            if i == 0:\n",
    "                process_df.to_pickle(f\"{processed_test_data}/{name}-{offset}.pkl\")\n",
    "                shutil.copy(f\"{processed_test_data}/{name}-{offset}.pkl\", f\"{test_data}/{random_filename}.pkl\")\n",
    "                break\n",
    "            else:\n",
    "                process_df.to_pickle(f\"{processed_train_data}/{name}-{offset}.pkl\")\n",
    "                shutil.copy(f\"{processed_train_data}/{name}-{offset}.pkl\", f\"{train_data}/{random_filename}.pkl\")\n",
    "    except:\n",
    "        pass"
   ]
  }
 ],
 "metadata": {
  "kernelspec": {
   "display_name": "base",
   "language": "python",
   "name": "python3"
  },
  "language_info": {
   "codemirror_mode": {
    "name": "ipython",
    "version": 3
   },
   "file_extension": ".py",
   "mimetype": "text/x-python",
   "name": "python",
   "nbconvert_exporter": "python",
   "pygments_lexer": "ipython3",
   "version": "3.11.4"
  },
  "orig_nbformat": 4
 },
 "nbformat": 4,
 "nbformat_minor": 2
}
